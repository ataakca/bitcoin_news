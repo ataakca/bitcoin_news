{
 "cells": [
  {
   "cell_type": "markdown",
   "metadata": {},
   "source": [
    "# Data Scraping"
   ]
  },
  {
   "cell_type": "markdown",
   "metadata": {},
   "source": [
    "In this notebook, you will find the code that I have written to scrape the news articles I have found from New York Times website."
   ]
  },
  {
   "cell_type": "markdown",
   "metadata": {},
   "source": [
    "**Notebook Contents**\n",
    "- [Installs & Imports](#Installs-&-Imports)\n",
    "- [Scraping](#Scraping)\n",
    "- [Saving and Merging](#Saving-and-Merging)"
   ]
  },
  {
   "cell_type": "markdown",
   "metadata": {},
   "source": [
    "## Installs & Imports"
   ]
  },
  {
   "cell_type": "code",
   "execution_count": 2,
   "metadata": {},
   "outputs": [],
   "source": [
    "# !pip install selenium\n",
    "# !pip install webdriver-manager"
   ]
  },
  {
   "cell_type": "code",
   "execution_count": 3,
   "metadata": {},
   "outputs": [],
   "source": [
    "import pandas as pd\n",
    "import requests\n",
    "from selenium import webdriver\n",
    "from webdriver_manager.chrome import ChromeDriverManager\n",
    "import time"
   ]
  },
  {
   "cell_type": "markdown",
   "metadata": {},
   "source": [
    "# Scraping"
   ]
  },
  {
   "cell_type": "code",
   "execution_count": 8,
   "metadata": {
    "scrolled": false
   },
   "outputs": [
    {
     "name": "stdout",
     "output_type": "stream",
     "text": [
      "\n",
      "Looking for [chromedriver 80.0.3987.106 mac64] driver in cache \n",
      "File found in cache by path [/Users/ataakca/.wdm/drivers/chromedriver/80.0.3987.106/mac64/chromedriver]\n",
      "range(0, 10)\n",
      "range(10, 20)\n",
      "loop continues :9\n",
      "\n",
      "range(20, 30)\n",
      "loop continues :19\n",
      "\n"
     ]
    },
    {
     "ename": "NoSuchWindowException",
     "evalue": "Message: no such window: window was already closed\n  (Session info: chrome=80.0.3987.132)\n",
     "output_type": "error",
     "traceback": [
      "\u001b[0;31m---------------------------------------------------------------------------\u001b[0m",
      "\u001b[0;31mNoSuchWindowException\u001b[0m                     Traceback (most recent call last)",
      "\u001b[0;32m<ipython-input-8-bee8477f3ab7>\u001b[0m in \u001b[0;36m<module>\u001b[0;34m\u001b[0m\n\u001b[1;32m     84\u001b[0m             \u001b[0;31m# Update Loop Values\u001b[0m\u001b[0;34m\u001b[0m\u001b[0;34m\u001b[0m\u001b[0;34m\u001b[0m\u001b[0m\n\u001b[1;32m     85\u001b[0m             \u001b[0mloop_minimum\u001b[0m \u001b[0;34m=\u001b[0m \u001b[0mloop_length\u001b[0m\u001b[0;34m\u001b[0m\u001b[0;34m\u001b[0m\u001b[0m\n\u001b[0;32m---> 86\u001b[0;31m             \u001b[0mloop_length\u001b[0m \u001b[0;34m=\u001b[0m \u001b[0mlen\u001b[0m\u001b[0;34m(\u001b[0m\u001b[0mdriver\u001b[0m\u001b[0;34m.\u001b[0m\u001b[0mfind_elements_by_class_name\u001b[0m\u001b[0;34m(\u001b[0m\u001b[0;34m'css-1l4w6pd'\u001b[0m\u001b[0;34m)\u001b[0m\u001b[0;34m)\u001b[0m\u001b[0;34m\u001b[0m\u001b[0;34m\u001b[0m\u001b[0m\n\u001b[0m\u001b[1;32m     87\u001b[0m \u001b[0;34m\u001b[0m\u001b[0m\n\u001b[1;32m     88\u001b[0m             \u001b[0;31m# New Scrapables List\u001b[0m\u001b[0;34m\u001b[0m\u001b[0;34m\u001b[0m\u001b[0;34m\u001b[0m\u001b[0m\n",
      "\u001b[0;32m~/opt/anaconda3/lib/python3.7/site-packages/selenium/webdriver/remote/webdriver.py\u001b[0m in \u001b[0;36mfind_elements_by_class_name\u001b[0;34m(self, name)\u001b[0m\n\u001b[1;32m    578\u001b[0m             \u001b[0melements\u001b[0m \u001b[0;34m=\u001b[0m \u001b[0mdriver\u001b[0m\u001b[0;34m.\u001b[0m\u001b[0mfind_elements_by_class_name\u001b[0m\u001b[0;34m(\u001b[0m\u001b[0;34m'foo'\u001b[0m\u001b[0;34m)\u001b[0m\u001b[0;34m\u001b[0m\u001b[0;34m\u001b[0m\u001b[0m\n\u001b[1;32m    579\u001b[0m         \"\"\"\n\u001b[0;32m--> 580\u001b[0;31m         \u001b[0;32mreturn\u001b[0m \u001b[0mself\u001b[0m\u001b[0;34m.\u001b[0m\u001b[0mfind_elements\u001b[0m\u001b[0;34m(\u001b[0m\u001b[0mby\u001b[0m\u001b[0;34m=\u001b[0m\u001b[0mBy\u001b[0m\u001b[0;34m.\u001b[0m\u001b[0mCLASS_NAME\u001b[0m\u001b[0;34m,\u001b[0m \u001b[0mvalue\u001b[0m\u001b[0;34m=\u001b[0m\u001b[0mname\u001b[0m\u001b[0;34m)\u001b[0m\u001b[0;34m\u001b[0m\u001b[0;34m\u001b[0m\u001b[0m\n\u001b[0m\u001b[1;32m    581\u001b[0m \u001b[0;34m\u001b[0m\u001b[0m\n\u001b[1;32m    582\u001b[0m     \u001b[0;32mdef\u001b[0m \u001b[0mfind_element_by_css_selector\u001b[0m\u001b[0;34m(\u001b[0m\u001b[0mself\u001b[0m\u001b[0;34m,\u001b[0m \u001b[0mcss_selector\u001b[0m\u001b[0;34m)\u001b[0m\u001b[0;34m:\u001b[0m\u001b[0;34m\u001b[0m\u001b[0;34m\u001b[0m\u001b[0m\n",
      "\u001b[0;32m~/opt/anaconda3/lib/python3.7/site-packages/selenium/webdriver/remote/webdriver.py\u001b[0m in \u001b[0;36mfind_elements\u001b[0;34m(self, by, value)\u001b[0m\n\u001b[1;32m   1005\u001b[0m         return self.execute(Command.FIND_ELEMENTS, {\n\u001b[1;32m   1006\u001b[0m             \u001b[0;34m'using'\u001b[0m\u001b[0;34m:\u001b[0m \u001b[0mby\u001b[0m\u001b[0;34m,\u001b[0m\u001b[0;34m\u001b[0m\u001b[0;34m\u001b[0m\u001b[0m\n\u001b[0;32m-> 1007\u001b[0;31m             'value': value})['value'] or []\n\u001b[0m\u001b[1;32m   1008\u001b[0m \u001b[0;34m\u001b[0m\u001b[0m\n\u001b[1;32m   1009\u001b[0m     \u001b[0;34m@\u001b[0m\u001b[0mproperty\u001b[0m\u001b[0;34m\u001b[0m\u001b[0;34m\u001b[0m\u001b[0m\n",
      "\u001b[0;32m~/opt/anaconda3/lib/python3.7/site-packages/selenium/webdriver/remote/webdriver.py\u001b[0m in \u001b[0;36mexecute\u001b[0;34m(self, driver_command, params)\u001b[0m\n\u001b[1;32m    319\u001b[0m         \u001b[0mresponse\u001b[0m \u001b[0;34m=\u001b[0m \u001b[0mself\u001b[0m\u001b[0;34m.\u001b[0m\u001b[0mcommand_executor\u001b[0m\u001b[0;34m.\u001b[0m\u001b[0mexecute\u001b[0m\u001b[0;34m(\u001b[0m\u001b[0mdriver_command\u001b[0m\u001b[0;34m,\u001b[0m \u001b[0mparams\u001b[0m\u001b[0;34m)\u001b[0m\u001b[0;34m\u001b[0m\u001b[0;34m\u001b[0m\u001b[0m\n\u001b[1;32m    320\u001b[0m         \u001b[0;32mif\u001b[0m \u001b[0mresponse\u001b[0m\u001b[0;34m:\u001b[0m\u001b[0;34m\u001b[0m\u001b[0;34m\u001b[0m\u001b[0m\n\u001b[0;32m--> 321\u001b[0;31m             \u001b[0mself\u001b[0m\u001b[0;34m.\u001b[0m\u001b[0merror_handler\u001b[0m\u001b[0;34m.\u001b[0m\u001b[0mcheck_response\u001b[0m\u001b[0;34m(\u001b[0m\u001b[0mresponse\u001b[0m\u001b[0;34m)\u001b[0m\u001b[0;34m\u001b[0m\u001b[0;34m\u001b[0m\u001b[0m\n\u001b[0m\u001b[1;32m    322\u001b[0m             response['value'] = self._unwrap_value(\n\u001b[1;32m    323\u001b[0m                 response.get('value', None))\n",
      "\u001b[0;32m~/opt/anaconda3/lib/python3.7/site-packages/selenium/webdriver/remote/errorhandler.py\u001b[0m in \u001b[0;36mcheck_response\u001b[0;34m(self, response)\u001b[0m\n\u001b[1;32m    240\u001b[0m                 \u001b[0malert_text\u001b[0m \u001b[0;34m=\u001b[0m \u001b[0mvalue\u001b[0m\u001b[0;34m[\u001b[0m\u001b[0;34m'alert'\u001b[0m\u001b[0;34m]\u001b[0m\u001b[0;34m.\u001b[0m\u001b[0mget\u001b[0m\u001b[0;34m(\u001b[0m\u001b[0;34m'text'\u001b[0m\u001b[0;34m)\u001b[0m\u001b[0;34m\u001b[0m\u001b[0;34m\u001b[0m\u001b[0m\n\u001b[1;32m    241\u001b[0m             \u001b[0;32mraise\u001b[0m \u001b[0mexception_class\u001b[0m\u001b[0;34m(\u001b[0m\u001b[0mmessage\u001b[0m\u001b[0;34m,\u001b[0m \u001b[0mscreen\u001b[0m\u001b[0;34m,\u001b[0m \u001b[0mstacktrace\u001b[0m\u001b[0;34m,\u001b[0m \u001b[0malert_text\u001b[0m\u001b[0;34m)\u001b[0m\u001b[0;34m\u001b[0m\u001b[0;34m\u001b[0m\u001b[0m\n\u001b[0;32m--> 242\u001b[0;31m         \u001b[0;32mraise\u001b[0m \u001b[0mexception_class\u001b[0m\u001b[0;34m(\u001b[0m\u001b[0mmessage\u001b[0m\u001b[0;34m,\u001b[0m \u001b[0mscreen\u001b[0m\u001b[0;34m,\u001b[0m \u001b[0mstacktrace\u001b[0m\u001b[0;34m)\u001b[0m\u001b[0;34m\u001b[0m\u001b[0;34m\u001b[0m\u001b[0m\n\u001b[0m\u001b[1;32m    243\u001b[0m \u001b[0;34m\u001b[0m\u001b[0m\n\u001b[1;32m    244\u001b[0m     \u001b[0;32mdef\u001b[0m \u001b[0m_value_or_default\u001b[0m\u001b[0;34m(\u001b[0m\u001b[0mself\u001b[0m\u001b[0;34m,\u001b[0m \u001b[0mobj\u001b[0m\u001b[0;34m,\u001b[0m \u001b[0mkey\u001b[0m\u001b[0;34m,\u001b[0m \u001b[0mdefault\u001b[0m\u001b[0;34m)\u001b[0m\u001b[0;34m:\u001b[0m\u001b[0;34m\u001b[0m\u001b[0;34m\u001b[0m\u001b[0m\n",
      "\u001b[0;31mNoSuchWindowException\u001b[0m: Message: no such window: window was already closed\n  (Session info: chrome=80.0.3987.132)\n"
     ]
    }
   ],
   "source": [
    "# Open and initialize the web browser\n",
    "driver = webdriver.Chrome(ChromeDriverManager().install())\n",
    "\n",
    "# Save the url needed (with required filter)\n",
    "# url = \"https://www.nytimes.com/search?dropmab=true&endDate=20200224&query=&sort=best&startDate=20110101\"\n",
    "\n",
    "start_date=\"20200220\"\n",
    "end_date=\"20200228\"\n",
    "\n",
    "url = \"https://www.nytimes.com/search?dropmab=true&endDate=\"+ end_date +\"&query=&sections=World%7Cnyt%3A%2F%2Fsection%2F70e865b6-cc70-5181-84c9-8368b3a5c34b&sort=best&startDate=\"+ start_date +\"&types=article\"\n",
    "# Connect to the website url\n",
    "driver.get(url)\n",
    "\n",
    "####################################################################################################################\n",
    "# no_of_clicks = 5\n",
    "# while no_of_clicks > 0:\n",
    "#     button = driver.find_element_by_xpath('/html/body/div/div[2]/main/div/div[2]/div[2]')\n",
    "#     button.click()\n",
    "#     time.sleep(1.8)\n",
    "#     print(f'clicks left: {no_of_clicks}')\n",
    "#     no_of_clicks -= 1\n",
    "####################################################################################################################\n",
    "\n",
    "# Finding the relevant class names for scraping\n",
    "dates = driver.find_elements_by_class_name('css-17ubb9w')\n",
    "categories = driver.find_elements_by_class_name('css-myxawk')\n",
    "titles = driver.find_elements_by_class_name('css-2fgx4k')\n",
    "articles = driver.find_elements_by_class_name('css-16nhkrn')\n",
    "authors = driver.find_elements_by_class_name('css-15w69y9')\n",
    "\n",
    "# Range of the loop\n",
    "loop_length = len(driver.find_elements_by_class_name('css-1l4w6pd'))\n",
    "loop_minimum = loop_length - 10\n",
    "print(range(loop_minimum, loop_length))\n",
    "\n",
    "# List of entries\n",
    "total = []\n",
    "\n",
    "# Counter for the Loop\n",
    "count = 0\n",
    "\n",
    "loop_minimum = 0\n",
    "\n",
    "while loop_length > 0:\n",
    "    for i in range(loop_minimum, loop_length):\n",
    "        \n",
    "        # Progress report printout (to follow the loop)\n",
    "        # print(f'i is :{i}')\n",
    "        \n",
    "        try:\n",
    "            # Required data\n",
    "            date = dates[i].text\n",
    "            category = categories[i].text\n",
    "            title = titles[i].text\n",
    "            article = articles[i].text\n",
    "            author = authors[i].text\n",
    "        except IndexError:\n",
    "            pass\n",
    "        \n",
    "        # Creating a new row of data\n",
    "        new_entry = ((date, category, title, article, author))\n",
    "\n",
    "        # Adding it to our list\n",
    "        total.append(new_entry)\n",
    "\n",
    "        # time.sleep(0.1)\n",
    "        count += 1\n",
    "        \n",
    "####################################################################################################################        \n",
    "        \n",
    "        # Upon reaching the last entry available\n",
    "        if (count % 10) == 0:\n",
    "            \n",
    "            # Click the button so that new articles appear\n",
    "            button = driver.find_element_by_xpath('/html/body/div/div[2]/main/div/div[2]/div[2]')\n",
    "            button.click()\n",
    "            time.sleep(2.5)\n",
    "            \n",
    "            # Informational print outs\n",
    "            # print(f'count just reached {count}')\n",
    "            # print(f'is it time to click the button = {i}')\n",
    "            \n",
    "            # print(range(loop_length))\n",
    "            # Update Loop Values\n",
    "            loop_minimum = loop_length\n",
    "            loop_length = len(driver.find_elements_by_class_name('css-1l4w6pd'))\n",
    "            \n",
    "            # New Scrapables List\n",
    "            dates = driver.find_elements_by_class_name('css-17ubb9w')\n",
    "            categories = driver.find_elements_by_class_name('css-myxawk')\n",
    "            titles = driver.find_elements_by_class_name('css-2fgx4k')\n",
    "            articles = driver.find_elements_by_class_name('css-16nhkrn')\n",
    "            authors = driver.find_elements_by_class_name('css-15w69y9')\n",
    "            \n",
    "            print(range(loop_minimum,loop_length))\n",
    "            print(f'loop continues :{i}')\n",
    "            print()\n"
   ]
  },
  {
   "cell_type": "markdown",
   "metadata": {},
   "source": [
    "***Important note:*** This code is still in progress, as you can see it breaks due to more than 3 different reasons and I thought it would be a waste of time to master it. But I used it like this to gather articles partially (500-1000 at a time), everytime it broke I had to add the articles in hand to the 'merged' dataframe and continue with the last entry date."
   ]
  },
  {
   "cell_type": "markdown",
   "metadata": {},
   "source": [
    "## Saving and Merging"
   ]
  },
  {
   "cell_type": "code",
   "execution_count": 4,
   "metadata": {},
   "outputs": [],
   "source": [
    "# For 2020 news that are missing year in the date:\n",
    "# new_df = pd.DataFrame(total, columns=['date','category','title','article','author'])\n",
    "# new_df['date'] = new_df['date'] + ', 2020'\n",
    "# new_df['date'] = pd.to_datetime(new_df['date'])"
   ]
  },
  {
   "cell_type": "code",
   "execution_count": 5,
   "metadata": {},
   "outputs": [
    {
     "data": {
      "text/html": [
       "<div>\n",
       "<style scoped>\n",
       "    .dataframe tbody tr th:only-of-type {\n",
       "        vertical-align: middle;\n",
       "    }\n",
       "\n",
       "    .dataframe tbody tr th {\n",
       "        vertical-align: top;\n",
       "    }\n",
       "\n",
       "    .dataframe thead th {\n",
       "        text-align: right;\n",
       "    }\n",
       "</style>\n",
       "<table border=\"1\" class=\"dataframe\">\n",
       "  <thead>\n",
       "    <tr style=\"text-align: right;\">\n",
       "      <th></th>\n",
       "      <th>date</th>\n",
       "      <th>category</th>\n",
       "      <th>title</th>\n",
       "      <th>article</th>\n",
       "      <th>author</th>\n",
       "    </tr>\n",
       "  </thead>\n",
       "  <tbody>\n",
       "    <tr>\n",
       "      <th>25</th>\n",
       "      <td>2018-12-31</td>\n",
       "      <td>MIDDLE EAST</td>\n",
       "      <td>Video on Turkish TV Is Said to Show Khashoggi’...</td>\n",
       "      <td>The television network A Haber broadcast foota...</td>\n",
       "      <td>By Alan Yuhas</td>\n",
       "    </tr>\n",
       "    <tr>\n",
       "      <th>26</th>\n",
       "      <td>2019-01-01</td>\n",
       "      <td>ASIA PACIFIC</td>\n",
       "      <td>Taiwan’s Leader Urges China to Address Differe...</td>\n",
       "      <td>President Tsai Ing-wen stressed that Taiwan’s ...</td>\n",
       "      <td>By Chris Horton</td>\n",
       "    </tr>\n",
       "    <tr>\n",
       "      <th>27</th>\n",
       "      <td>2019-01-01</td>\n",
       "      <td>AMERICAS</td>\n",
       "      <td>Brazil Wanted Change. Even Before Taking Offic...</td>\n",
       "      <td>In electing Mr. Bolsonaro, a far-right politic...</td>\n",
       "      <td>By Ernesto Londoño and Manuela Andreoni</td>\n",
       "    </tr>\n",
       "    <tr>\n",
       "      <th>28</th>\n",
       "      <td>2019-01-01</td>\n",
       "      <td>ASIA PACIFIC</td>\n",
       "      <td>A Photographer’s Quest to Reverse China’s Hist...</td>\n",
       "      <td>The Chinese photographer Li Zhensheng has been...</td>\n",
       "      <td>By Amy Qin</td>\n",
       "    </tr>\n",
       "    <tr>\n",
       "      <th>29</th>\n",
       "      <td>2018-12-31</td>\n",
       "      <td>ASIA PACIFIC</td>\n",
       "      <td>Kim Jong-un, Ready to Meet Trump ‘at Any Time,...</td>\n",
       "      <td>In his New Year’s Day speech, North Korea’s le...</td>\n",
       "      <td>By Motoko Rich and David E. Sanger</td>\n",
       "    </tr>\n",
       "  </tbody>\n",
       "</table>\n",
       "</div>"
      ],
      "text/plain": [
       "         date      category  \\\n",
       "25 2018-12-31   MIDDLE EAST   \n",
       "26 2019-01-01  ASIA PACIFIC   \n",
       "27 2019-01-01      AMERICAS   \n",
       "28 2019-01-01  ASIA PACIFIC   \n",
       "29 2018-12-31  ASIA PACIFIC   \n",
       "\n",
       "                                                title  \\\n",
       "25  Video on Turkish TV Is Said to Show Khashoggi’...   \n",
       "26  Taiwan’s Leader Urges China to Address Differe...   \n",
       "27  Brazil Wanted Change. Even Before Taking Offic...   \n",
       "28  A Photographer’s Quest to Reverse China’s Hist...   \n",
       "29  Kim Jong-un, Ready to Meet Trump ‘at Any Time,...   \n",
       "\n",
       "                                              article  \\\n",
       "25  The television network A Haber broadcast foota...   \n",
       "26  President Tsai Ing-wen stressed that Taiwan’s ...   \n",
       "27  In electing Mr. Bolsonaro, a far-right politic...   \n",
       "28  The Chinese photographer Li Zhensheng has been...   \n",
       "29  In his New Year’s Day speech, North Korea’s le...   \n",
       "\n",
       "                                     author  \n",
       "25                            By Alan Yuhas  \n",
       "26                          By Chris Horton  \n",
       "27  By Ernesto Londoño and Manuela Andreoni  \n",
       "28                               By Amy Qin  \n",
       "29       By Motoko Rich and David E. Sanger  "
      ]
     },
     "execution_count": 5,
     "metadata": {},
     "output_type": "execute_result"
    }
   ],
   "source": [
    "# For those with the year in the date information\n",
    "new_df = pd.DataFrame(total, columns=['date','category','title','article','author'])\n",
    "new_df['date'] = pd.to_datetime(new_df['date'])\n",
    "new_df.tail()"
   ]
  },
  {
   "cell_type": "code",
   "execution_count": 13,
   "metadata": {},
   "outputs": [
    {
     "data": {
      "text/plain": [
       "date        datetime64[ns]\n",
       "category            object\n",
       "title               object\n",
       "article             object\n",
       "author              object\n",
       "dtype: object"
      ]
     },
     "execution_count": 13,
     "metadata": {},
     "output_type": "execute_result"
    }
   ],
   "source": [
    "new_df.dtypes"
   ]
  },
  {
   "cell_type": "code",
   "execution_count": 7,
   "metadata": {},
   "outputs": [],
   "source": [
    "# Merging the newly found articles to the backup data called 'merged'\n",
    "merged = pd.DataFrame()\n",
    "frames = [new_df, merged]\n",
    "merged = pd.concat(frames)\n",
    "merged.drop_duplicates(inplace=True)"
   ]
  },
  {
   "cell_type": "code",
   "execution_count": 9,
   "metadata": {},
   "outputs": [],
   "source": [
    "merged = merged.sort_values(by='date',ascending=False).reset_index(drop='index')"
   ]
  },
  {
   "cell_type": "code",
   "execution_count": 10,
   "metadata": {},
   "outputs": [
    {
     "data": {
      "text/html": [
       "<div>\n",
       "<style scoped>\n",
       "    .dataframe tbody tr th:only-of-type {\n",
       "        vertical-align: middle;\n",
       "    }\n",
       "\n",
       "    .dataframe tbody tr th {\n",
       "        vertical-align: top;\n",
       "    }\n",
       "\n",
       "    .dataframe thead th {\n",
       "        text-align: right;\n",
       "    }\n",
       "</style>\n",
       "<table border=\"1\" class=\"dataframe\">\n",
       "  <thead>\n",
       "    <tr style=\"text-align: right;\">\n",
       "      <th></th>\n",
       "      <th>date</th>\n",
       "      <th>category</th>\n",
       "      <th>title</th>\n",
       "      <th>article</th>\n",
       "      <th>author</th>\n",
       "    </tr>\n",
       "  </thead>\n",
       "  <tbody>\n",
       "    <tr>\n",
       "      <th>0</th>\n",
       "      <td>2019-01-02</td>\n",
       "      <td>MIDDLE EAST</td>\n",
       "      <td>Saudi Arabia Denies Issuing American Weapons t...</td>\n",
       "      <td>Sudanese soldiers fighting for the Saudi-led c...</td>\n",
       "      <td>By David D. Kirkpatrick</td>\n",
       "    </tr>\n",
       "    <tr>\n",
       "      <th>1</th>\n",
       "      <td>2019-01-02</td>\n",
       "      <td>EUROPE</td>\n",
       "      <td>Where Doulas Calm Nerves and Bridge Cultures D...</td>\n",
       "      <td>In Sweden, midwives deliver babies. But doula ...</td>\n",
       "      <td>By Christina Anderson</td>\n",
       "    </tr>\n",
       "    <tr>\n",
       "      <th>2</th>\n",
       "      <td>2019-01-02</td>\n",
       "      <td>EUROPE</td>\n",
       "      <td>Spurning Erdogan’s Vision, Turks Leave in Drov...</td>\n",
       "      <td>Driven by fear of persecution and economic mis...</td>\n",
       "      <td>By Carlotta Gall</td>\n",
       "    </tr>\n",
       "    <tr>\n",
       "      <th>3</th>\n",
       "      <td>2019-01-02</td>\n",
       "      <td>EUROPE</td>\n",
       "      <td>Freed From Forced Marriages, U.K. Women Stuck ...</td>\n",
       "      <td>Britain’s Foreign Office brought home 82 women...</td>\n",
       "      <td>By Benjamin Mueller</td>\n",
       "    </tr>\n",
       "    <tr>\n",
       "      <th>4</th>\n",
       "      <td>2019-01-02</td>\n",
       "      <td>EUROPE</td>\n",
       "      <td>Uffizi Prods Germans to Return Painting Stolen...</td>\n",
       "      <td>A German family has the artwork, and refuses t...</td>\n",
       "      <td>By Elisabetta Povoledo</td>\n",
       "    </tr>\n",
       "  </tbody>\n",
       "</table>\n",
       "</div>"
      ],
      "text/plain": [
       "        date     category                                              title  \\\n",
       "0 2019-01-02  MIDDLE EAST  Saudi Arabia Denies Issuing American Weapons t...   \n",
       "1 2019-01-02       EUROPE  Where Doulas Calm Nerves and Bridge Cultures D...   \n",
       "2 2019-01-02       EUROPE  Spurning Erdogan’s Vision, Turks Leave in Drov...   \n",
       "3 2019-01-02       EUROPE  Freed From Forced Marriages, U.K. Women Stuck ...   \n",
       "4 2019-01-02       EUROPE  Uffizi Prods Germans to Return Painting Stolen...   \n",
       "\n",
       "                                             article                   author  \n",
       "0  Sudanese soldiers fighting for the Saudi-led c...  By David D. Kirkpatrick  \n",
       "1  In Sweden, midwives deliver babies. But doula ...    By Christina Anderson  \n",
       "2  Driven by fear of persecution and economic mis...         By Carlotta Gall  \n",
       "3  Britain’s Foreign Office brought home 82 women...      By Benjamin Mueller  \n",
       "4  A German family has the artwork, and refuses t...   By Elisabetta Povoledo  "
      ]
     },
     "execution_count": 10,
     "metadata": {},
     "output_type": "execute_result"
    }
   ],
   "source": [
    "merged.head()"
   ]
  },
  {
   "cell_type": "code",
   "execution_count": 11,
   "metadata": {},
   "outputs": [],
   "source": [
    "# I wanted to create a backup dataframe to save the merged to,\n",
    "# in case I do something that is irreversible, I will have more than one copy to revert back\n",
    "# to normal. Also, ALWAYS SAVE YOUR DATA.\n",
    "backup = merged\n",
    "backup.to_csv('../Datasets/backup_data.csv', index=False)"
   ]
  }
 ],
 "metadata": {
  "kernelspec": {
   "display_name": "Python 3",
   "language": "python",
   "name": "python3"
  },
  "language_info": {
   "codemirror_mode": {
    "name": "ipython",
    "version": 3
   },
   "file_extension": ".py",
   "mimetype": "text/x-python",
   "name": "python",
   "nbconvert_exporter": "python",
   "pygments_lexer": "ipython3",
   "version": "3.7.4"
  }
 },
 "nbformat": 4,
 "nbformat_minor": 2
}
